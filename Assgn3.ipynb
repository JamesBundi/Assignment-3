{
  "nbformat": 4,
  "nbformat_minor": 0,
  "metadata": {
    "colab": {
      "name": "Assgn3.ipynb",
      "provenance": []
    },
    "kernelspec": {
      "display_name": "Python 3",
      "name": "python3"
    },
    "language_info": {
      "name": "python"
    }
  },
  "cells": [
    {
      "cell_type": "code",
      "metadata": {
        "colab": {
          "base_uri": "https://localhost:8080/"
        },
        "id": "APeQvfIHRUZT",
        "outputId": "7846760d-9dec-47af-88a0-65ac0f7a8e77"
      },
      "source": [
        "#Enter Full Names\n",
        "print(\"Enter First and Last Name\")\n",
        "fname = input(\"fname :\") #First Name\n",
        "lname = input(\"lname :\") #last Name\n",
        "fullnames = fname + \" \" + lname\n",
        "\n",
        "#Enter phone, email\n",
        "print(\"Enter Customer's Phone Number: \")\n",
        "phone = input()\n",
        "print(\"Enter Customer's email aaddress: \")\n",
        "email = input() \n",
        " \n",
        "#price of a used car\n",
        "price = 10000;\n",
        "has_good_credit = True;\n",
        "\n",
        "if has_good_credit:\n",
        "    down_payment = 0.1 * price\n",
        "else:\n",
        "    down_payment = 0.2 * price\n",
        "\n",
        "\n",
        "\n",
        "print(\"\\033[1m\" + \"Fullnames : \" + \"\\033[0m\"  +fullnames)\n",
        "print(\"\\033[1m\" + \"Phone: \" + \"\\033[0m\" +phone)\n",
        "print(\"\\033[1m\" + \"Email: \" + \"\\033[0m\" + email)\n",
        "print(\"Down Payment:\", +down_payment)\n",
        "\n"
      ],
      "execution_count": 3,
      "outputs": [
        {
          "output_type": "stream",
          "text": [
            "Enter First and Last Name\n",
            "fname :Bernard \n",
            "lname :Njoroge Otieno\n",
            "Enter Customer's Phone Number: \n",
            "872-098-9876\n",
            "Enter Customer's email aaddress: \n",
            "UsedCarSalesman@gmail.com\n",
            "\u001b[1mFullnames : \u001b[0mBernard  Njoroge Otieno\n",
            "\u001b[1mPhone: \u001b[0m872-098-9876\n",
            "\u001b[1mEmail: \u001b[0mUsedCarSalesman@gmail.com\n",
            "Down Payment: 1000.0\n"
          ],
          "name": "stdout"
        }
      ]
    },
    {
      "cell_type": "code",
      "metadata": {
        "id": "KHvblE6uR-H6"
      },
      "source": [
        ""
      ],
      "execution_count": null,
      "outputs": []
    }
  ]
}